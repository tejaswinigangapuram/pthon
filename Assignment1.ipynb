{
 "cells": [
  {
   "cell_type": "code",
   "execution_count": 35,
   "id": "135e97b7-9b3c-4aa4-a48d-c5e2617e0d38",
   "metadata": {},
   "outputs": [
    {
     "name": "stdin",
     "output_type": "stream",
     "text": [
      "Enter the total_number of people: 210\n",
      "Enter the number of seats per bus:  50\n"
     ]
    },
    {
     "name": "stdout",
     "output_type": "stream",
     "text": [
      "4\n"
     ]
    }
   ],
   "source": [
    "1.\tTake the input from the user for(Total number of people,Number of seats for bus. Based on two inputs\n",
    "Decide how many number of buses required\n",
    "\n",
    "total_people = int(input(\"Enter the total_number of people:\" ))\n",
    "seats_per_bus = int(input(\"Enter the number of seats per bus: \" ))\n",
    "no_of_buses_required = total_people // seats_per_bus\n",
    "print(no_of_buses_required)\n"
   ]
  },
  {
   "cell_type": "code",
   "execution_count": null,
   "id": "a7a968b4-b6bc-419f-8d46-dcb50321d044",
   "metadata": {},
   "outputs": [],
   "source": [
    "2.Take temperature from the user and convert foreign heat -> Celsius."
   ]
  },
  {
   "cell_type": "code",
   "execution_count": 1,
   "id": "3dbb66c5-e6d3-4f45-b628-b51ee67eda79",
   "metadata": {},
   "outputs": [
    {
     "name": "stdout",
     "output_type": "stream",
     "text": [
      "Temperature in Celsius: 37.0\n"
     ]
    }
   ],
   "source": [
    "fahrenheit = 98.6  \n",
    "celsius = (fahrenheit - 32) * 5 / 9\n",
    "print(\"Temperature in Celsius:\", celsius)\n",
    "\n"
   ]
  },
  {
   "cell_type": "code",
   "execution_count": null,
   "id": "752b061f-696e-4df5-a4c1-9bcae1f269d0",
   "metadata": {},
   "outputs": [],
   "source": [
    "3.Take temperature from the user and convert Celsius → foreign heat"
   ]
  },
  {
   "cell_type": "code",
   "execution_count": 4,
   "id": "d6005502-8a96-4784-8b67-1d2e04822947",
   "metadata": {},
   "outputs": [
    {
     "name": "stdout",
     "output_type": "stream",
     "text": [
      "Temperature in fahrenheit: 39.07407407407408\n"
     ]
    }
   ],
   "source": [
    "celsius = 78.6  \n",
    "fahrenheit = (fahrenheit + 32) * 5 / 9\n",
    "print(\"Temperature in fahrenheit:\", fahrenheit)\n"
   ]
  },
  {
   "cell_type": "code",
   "execution_count": null,
   "id": "b6503694-76d9-468b-a13e-65cb6b797d9f",
   "metadata": {},
   "outputs": [],
   "source": [
    "4.Take four number from the user (variables name it as x1,x2,x3,x4)\n",
    " Do the below operations\n",
    " (x1+x2)**2, (x3+x4)**3\n",
    "variance\n",
    "standard deviation: sqrt(variance):  User math module. Math.sqrt(variance)\n",
    "Regression\n",
    "\ty=mx+b\n",
    "          m=1.23\n",
    "          b=0.045\n",
    "          find out y\n",
    "          y=m*(x1+x2+x3+x4)+b\n",
    "Find the average of four numbers\n",
    "Find the sum of four numbers\n"
   ]
  },
  {
   "cell_type": "code",
   "execution_count": 36,
   "id": "46d12434-8a8f-46aa-965f-a2f49c54569b",
   "metadata": {},
   "outputs": [
    {
     "name": "stdin",
     "output_type": "stream",
     "text": [
      "Enter the value of x1:  5\n",
      "Enter the value of x2:  7\n",
      "Enter the value of x3:  10\n",
      "Enter the value of x4:  20\n"
     ]
    },
    {
     "name": "stdout",
     "output_type": "stream",
     "text": [
      "The result of (x1 + x2)^2 is: 144\n",
      "The result of (x3 + x4)^3 is: 27000\n",
      "10\n",
      " variance :  44.666666666666664\n",
      "regression :  51.705\n",
      "standard deviationRegression :  6.683312551921141\n",
      "average of four numbers :  10\n",
      "sum of 4 numbers :  42\n"
     ]
    }
   ],
   "source": [
    "# Taking four integer inputs from the user\n",
    "import math \n",
    "x1 = int(input(\"Enter the value of x1: \"))\n",
    "x2 = int(input(\"Enter the value of x2: \"))\n",
    "x3 = int(input(\"Enter the value of x3: \"))\n",
    "x4 = int(input(\"Enter the value of x4: \"))\n",
    "# Calculating the expressions\n",
    "result1 = (x1 + x2) ** 2\n",
    "result2 = (x3 + x4) ** 3\n",
    "# Printing the results\n",
    "print(\"The result of (x1 + x2)^2 is:\", result1)\n",
    "print(\"The result of (x3 + x4)^3 is:\", result2)\n",
    "# mean value \n",
    "mean = (x1 + x2+ x3 + x4 )//4 \n",
    "print(mean)\n",
    "## Squared Differences\n",
    "numbers = (x1 , x2, x3 , x4 )\n",
    "sum_sqd_numbers = 0\n",
    "sqd_numbers = []\n",
    "for i in numbers:\n",
    "    sqd = (i - mean) ** 2\n",
    "    sum_sqd_numbers += sqd\n",
    "    sqd_numbers.append(sqd)\n",
    "variance = sum_sqd_numbers/(4-1)\n",
    "print(\" variance : \",variance)    \n",
    "# standard deviationRegression\n",
    "std_dev = math.sqrt(variance)\n",
    "#print(std_dev)\n",
    "# Regression\n",
    "\n",
    "## y=mx+b\n",
    "m=1.23\n",
    "b=0.045\n",
    "y  =  m * (x1+x2+x3+x4) +b\n",
    "print(\"regression : \", y)\n",
    "print(\"standard deviationRegression : \",std_dev)\n",
    "print(\"average of four numbers : \",mean)\n",
    "print(\"sum of 4 numbers : \",(x1+x2+x3+x4))\n",
    "\n"
   ]
  },
  {
   "cell_type": "code",
   "execution_count": null,
   "id": "10d22129-d752-45cc-994a-b3d5eaf8e54a",
   "metadata": {},
   "outputs": [],
   "source": [
    "5.Take the distance in km.Show that in cm, meters, in milli meters, cents, feets, yards\n"
   ]
  },
  {
   "cell_type": "code",
   "execution_count": 3,
   "id": "d4cdd41f-946c-42d8-b98f-737146454390",
   "metadata": {},
   "outputs": [
    {
     "name": "stdin",
     "output_type": "stream",
     "text": [
      "Enter the distance in kilometers:  5\n"
     ]
    },
    {
     "name": "stdout",
     "output_type": "stream",
     "text": [
      "\n",
      "Distance in different units:\n",
      "5.0 kilometers = 500000.0 centimeters\n",
      "5.0 kilometers = 5000.0 meters\n",
      "5.0 kilometers = 5000000.0 millimeters\n",
      "5.0 kilometers = 16404.2 feet\n",
      "5.0 kilometers = 5468.049999999999 yards\n"
     ]
    }
   ],
   "source": [
    "km = float(input(\"Enter the distance in kilometers: \"))\n",
    "meters = km * 1000        \n",
    "centimeters = km * 100000 \n",
    "millimeters = km * 1e6    \n",
    "feet = km * 3280.84     \n",
    "yards = km * 1093.61 \n",
    "print(f\"\\nDistance in different units:\")\n",
    "print(f\"{km} kilometers = {centimeters} centimeters\")\n",
    "print(f\"{km} kilometers = {meters} meters\")\n",
    "print(f\"{km} kilometers = {millimeters} millimeters\")\n",
    "print(f\"{km} kilometers = {feet} feet\")\n",
    "print(f\"{km} kilometers = {yards} yards\")"
   ]
  },
  {
   "cell_type": "code",
   "execution_count": null,
   "id": "4d68ea6e-8dac-4fad-9cf6-1dbea8881df5",
   "metadata": {},
   "outputs": [],
   "source": [
    "6.Take the size of your hard disk in GB.Show that in MB, KB, TB, PB\n"
   ]
  },
  {
   "cell_type": "code",
   "execution_count": 4,
   "id": "18c13735-301d-4ca1-bd6c-2795e7ed659f",
   "metadata": {},
   "outputs": [
    {
     "name": "stdin",
     "output_type": "stream",
     "text": [
      "Enter the size of the hard disk in GB:  500\n"
     ]
    },
    {
     "name": "stdout",
     "output_type": "stream",
     "text": [
      "\n",
      "Size in different units:\n",
      "500.0 GB = 512000.0 MB\n",
      "500.0 GB = 524288000.0 KB\n",
      "500.0 GB = 0.48828125 TB\n",
      "500.0 GB = 0.000476837158203125 PB\n"
     ]
    }
   ],
   "source": [
    "gb = float(input(\"Enter the size of the hard disk in GB: \"))\n",
    "mb = gb * 1024           \n",
    "kb = gb * 1024 * 1024    \n",
    "tb = gb / 1024           \n",
    "pb = gb / (1024 * 1024)\n",
    "print(f\"\\nSize in different units:\")\n",
    "print(f\"{gb} GB = {mb} MB\")\n",
    "print(f\"{gb} GB = {kb} KB\")\n",
    "print(f\"{gb} GB = {tb} TB\")\n",
    "print(f\"{gb} GB = {pb} PB\")"
   ]
  },
  {
   "cell_type": "code",
   "execution_count": null,
   "id": "9a3a4b40-a4e5-4c84-97e5-fd4accf05f93",
   "metadata": {},
   "outputs": [],
   "source": [
    "7.Take name, age, height from the user and print like below\n",
    "The details of the person: Name:name of the person, Age:age of the person, Height:height of the person\n"
   ]
  },
  {
   "cell_type": "code",
   "execution_count": 25,
   "id": "af7c905c-ad1f-4d26-b9fd-6a31e1e8fdfc",
   "metadata": {},
   "outputs": [
    {
     "name": "stdin",
     "output_type": "stream",
     "text": [
      "Enter your name:  teju\n",
      "Enter your age:  32\n",
      "Enter your height in meters:  5.3\n"
     ]
    },
    {
     "name": "stdout",
     "output_type": "stream",
     "text": [
      "The details of the : Name:teju, Age:32, Height:5.3\n"
     ]
    }
   ],
   "source": [
    "name = input(\"Enter your name: \")\n",
    "age = int(input(\"Enter your age: \"))\n",
    "height = float(input(\"Enter your height in meters: \"))\n",
    "print(f\"The details of the: Name:{name}, Age:{age}, Height:{height}\")\n"
   ]
  },
  {
   "cell_type": "code",
   "execution_count": null,
   "id": "03c10a30-2483-4c45-97cd-f669136cd1f7",
   "metadata": {},
   "outputs": [],
   "source": [
    "8.BMI calculation: take required parameters for BMI calculation from the user and calculate BMI of the person."
   ]
  },
  {
   "cell_type": "code",
   "execution_count": 6,
   "id": "89470afb-88fc-4e7b-a7c4-99dcb823f740",
   "metadata": {},
   "outputs": [
    {
     "name": "stdin",
     "output_type": "stream",
     "text": [
      "Enter your weight in kilograms:  50\n",
      "Enter your height in meters:  1.78\n"
     ]
    },
    {
     "name": "stdout",
     "output_type": "stream",
     "text": [
      "Your BMI is: 15.78\n"
     ]
    }
   ],
   "source": [
    "weight = float(input(\"Enter your weight in kilograms: \"))\n",
    "height = float(input(\"Enter your height in meters: \"))\n",
    "bmi = weight / (height ** 2)\n",
    "print(f\"Your BMI is: {bmi:.2f}\")\n"
   ]
  },
  {
   "cell_type": "code",
   "execution_count": null,
   "id": "378c6bbf-7969-45c4-aaea-0ffb8d1a94e3",
   "metadata": {},
   "outputs": [],
   "source": [
    "9.name=\"Jayaram\"\n",
    "age=1.6\n",
    "height=3.5356234\n",
    "weight=10.343856783\n",
    "By using above inputs print the output\n",
    "Name:Jayaram, Age:1.6, Height:3.54, Weight:10.344\n"
   ]
  },
  {
   "cell_type": "code",
   "execution_count": 7,
   "id": "b25ea4d5-7801-4388-908d-8539cf770094",
   "metadata": {},
   "outputs": [
    {
     "name": "stdout",
     "output_type": "stream",
     "text": [
      "Name:Jayaram, Age:1.6, Height:3.54, Weight:10.344\n"
     ]
    }
   ],
   "source": [
    "name = \"Jayaram\"\n",
    "age = 1.6\n",
    "height = 3.5356234\n",
    "weight = 10.343856783\n",
    "print(\"Name:%s, Age:%.1f, Height:%.2f, Weight:%.3f\" % (name, age, height, weight))\n"
   ]
  },
  {
   "cell_type": "code",
   "execution_count": null,
   "id": "047c6e38-c9fe-468e-8643-ba9b40ad4300",
   "metadata": {},
   "outputs": [],
   "source": [
    "9.Take three upper case letters from the user convert in to small case."
   ]
  },
  {
   "cell_type": "code",
   "execution_count": 24,
   "id": "fdfefaf3-913e-4c7b-a36b-eafb993e3b47",
   "metadata": {},
   "outputs": [
    {
     "name": "stdin",
     "output_type": "stream",
     "text": [
      "Enter the first uppercase letter:  A\n",
      "Enter the second uppercase letter:  B\n",
      "Enter the third uppercase letter:  C\n"
     ]
    },
    {
     "name": "stdout",
     "output_type": "stream",
     "text": [
      "smallercase letters: a, b, c\n"
     ]
    }
   ],
   "source": [
    "letter1 = input(\"Enter the first uppercase letter: \")\n",
    "letter2 = input(\"Enter the second uppercase letter: \")\n",
    "letter3 = input(\"Enter the third uppercase letter: \")\n",
    "smallercase_letter1 = letter1.lower()\n",
    "smallercase_letter2 = letter2.lower()\n",
    "smallercase_letter3 = letter3.lower()\n",
    "print(f\"smallercase letters: {smallercase_letter1}, {smallercase_letter2}, {smallercase_letter3}\")\n"
   ]
  },
  {
   "cell_type": "code",
   "execution_count": null,
   "id": "b71e9700-700c-4e29-abd3-1195d176ad37",
   "metadata": {},
   "outputs": [],
   "source": [
    "10. Take base and exponent value from the user and print like in mathematics:\n",
    "    example: base=2, exponent=3: 23\n"
   ]
  },
  {
   "cell_type": "code",
   "execution_count": 40,
   "id": "b39a56d8-f6a8-4634-b6b7-9194d9803b4c",
   "metadata": {},
   "outputs": [
    {
     "name": "stdin",
     "output_type": "stream",
     "text": [
      "Enter the base value:  2\n",
      "Enter the exponent value:  3\n"
     ]
    },
    {
     "name": "stdout",
     "output_type": "stream",
     "text": [
      "2³\n"
     ]
    }
   ],
   "source": [
    "# Taking base and exponent as input\n",
    "base = int(input(\"Enter the base value: \"))\n",
    "exponent = int(input(\"Enter the exponent value: \"))\n",
    "if exponent == 2:\n",
    "    print(f\"{base}\\u00b2\")  \n",
    "elif exponent == 3:\n",
    "    print(f\"{base}\\u00b3\")  \n",
    "else:\n",
    "    print(f\"{base}^{exponent}\")  \n",
    "\n"
   ]
  },
  {
   "cell_type": "code",
   "execution_count": null,
   "id": "a2529d4a-4655-4f5f-81e0-7d4b85587b71",
   "metadata": {},
   "outputs": [],
   "source": [
    "12.Take some groceries cost prices and print total cost and average cost, what is the max cost, what is the minimum cost."
   ]
  },
  {
   "cell_type": "code",
   "execution_count": 16,
   "id": "848084ee-8ea7-4ecc-858c-a9b141cf9f87",
   "metadata": {},
   "outputs": [
    {
     "name": "stdout",
     "output_type": "stream",
     "text": [
      "Total_Cost: 205\n",
      "Average_Cost: 41.0\n",
      "Maximum_Cost: 60\n",
      "Minimum_Cost: 25\n"
     ]
    }
   ],
   "source": [
    "grocery_costs = [50, 30, 40, 60, 25]\n",
    "total_cost = sum(grocery_costs)\n",
    "average_cost = total_cost / len(grocery_costs)\n",
    "max_cost = max(grocery_costs)\n",
    "min_cost = min(grocery_costs)\n",
    "print(\"Total_Cost:\", total_cost)\n",
    "print(\"Average_Cost:\", average_cost)\n",
    "print(\"Maximum_Cost:\", max_cost)\n",
    "print(\"Minimum_Cost:\", min_cost)"
   ]
  },
  {
   "cell_type": "code",
   "execution_count": null,
   "id": "eb824b0d-9f35-4286-b74c-f987fd58acd2",
   "metadata": {},
   "outputs": [],
   "source": []
  }
 ],
 "metadata": {
  "kernelspec": {
   "display_name": "Python 3 (ipykernel)",
   "language": "python",
   "name": "python3"
  },
  "language_info": {
   "codemirror_mode": {
    "name": "ipython",
    "version": 3
   },
   "file_extension": ".py",
   "mimetype": "text/x-python",
   "name": "python",
   "nbconvert_exporter": "python",
   "pygments_lexer": "ipython3",
   "version": "3.12.4"
  }
 },
 "nbformat": 4,
 "nbformat_minor": 5
}
