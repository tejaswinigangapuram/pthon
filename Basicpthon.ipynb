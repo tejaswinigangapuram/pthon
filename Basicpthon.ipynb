{
  "nbformat": 4,
  "nbformat_minor": 0,
  "metadata": {
    "colab": {
      "provenance": [],
      "authorship_tag": "ABX9TyMuhzJr5zVq3nXv6t6JTIY/",
      "include_colab_link": true
    },
    "kernelspec": {
      "name": "python3",
      "display_name": "Python 3"
    },
    "language_info": {
      "name": "python"
    }
  },
  "cells": [
    {
      "cell_type": "markdown",
      "metadata": {
        "id": "view-in-github",
        "colab_type": "text"
      },
      "source": [
        "<a href=\"https://colab.research.google.com/github/tejaswinigangapuram/pthon/blob/main/Basicpthon.ipynb\" target=\"_parent\"><img src=\"https://colab.research.google.com/assets/colab-badge.svg\" alt=\"Open In Colab\"/></a>"
      ]
    },
    {
      "cell_type": "code",
      "execution_count": null,
      "metadata": {
        "id": "aduYMvn3hrDc"
      },
      "outputs": [],
      "source": []
    },
    {
      "cell_type": "code",
      "source": [],
      "metadata": {
        "id": "mfLi00zVhrtj"
      },
      "execution_count": null,
      "outputs": []
    },
    {
      "cell_type": "code",
      "source": [
        "age = int(input(\"Enter age : \"))\n",
        "if age >= 18:\n",
        "  print(\"Eligible for voting!\")\n",
        "else:\n",
        "  print(\"Not Eligible for voting!\")\n"
      ],
      "metadata": {
        "colab": {
          "base_uri": "https://localhost:8080/"
        },
        "id": "M-Y8wjkwjYYh",
        "outputId": "e77021e8-a47e-42b1-a9a6-9ec792e80bd9"
      },
      "execution_count": 20,
      "outputs": [
        {
          "output_type": "stream",
          "name": "stdout",
          "text": [
            "Enter age : 18\n",
            "Eligible for voting!\n"
          ]
        }
      ]
    },
    {
      "cell_type": "code",
      "source": [
        "num = int(input(\"Enter num : \"))\n",
        "if num <= 6:\n",
        "  print(\"Number is even!\")\n",
        "else:\n",
        "  print(\"Number is odd!\")"
      ],
      "metadata": {
        "colab": {
          "base_uri": "https://localhost:8080/"
        },
        "id": "9gXzeNiwkhIR",
        "outputId": "6b843ee7-b0da-4363-951f-6326df7ee2ca"
      },
      "execution_count": 23,
      "outputs": [
        {
          "output_type": "stream",
          "name": "stdout",
          "text": [
            "Enter num : 2\n",
            "Number is even!\n"
          ]
        }
      ]
    },
    {
      "cell_type": "code",
      "source": [
        "if num % 6:\n",
        "  print(\"divisible by 7!\")\n",
        "else:\n",
        "  print(\"Not divisible by 7!\")"
      ],
      "metadata": {
        "colab": {
          "base_uri": "https://localhost:8080/"
        },
        "id": "X114FWhslRFk",
        "outputId": "c218c3f4-e68a-43ad-fdc8-ac43b96885ff"
      },
      "execution_count": 31,
      "outputs": [
        {
          "output_type": "stream",
          "name": "stdout",
          "text": [
            "divisible by 7!\n"
          ]
        }
      ]
    },
    {
      "cell_type": "code",
      "source": [
        "\n",
        "if num % 5 == 2:\n",
        "  print(\"Hello!\")\n",
        "else:\n",
        "  print(\"Bye!\")"
      ],
      "metadata": {
        "colab": {
          "base_uri": "https://localhost:8080/"
        },
        "id": "29FmujLEq3dx",
        "outputId": "3de0caeb-fa39-4c79-b71b-316d5b8e63a7"
      },
      "execution_count": 44,
      "outputs": [
        {
          "output_type": "stream",
          "name": "stdout",
          "text": [
            "Hello!\n"
          ]
        }
      ]
    },
    {
      "cell_type": "code",
      "source": [
        "num = int(input(\"Enter a number : \"))\n",
        "last_digit = num % 10\n",
        "print(\"The last digit of a number :\")"
      ],
      "metadata": {
        "colab": {
          "base_uri": "https://localhost:8080/"
        },
        "id": "LYilsUYftRah",
        "outputId": "5e2293db-2683-4dcd-cb12-427ee82a255b"
      },
      "execution_count": 48,
      "outputs": [
        {
          "output_type": "stream",
          "name": "stdout",
          "text": [
            "Enter a number : 4\n",
            "The last digit of a number :\n"
          ]
        }
      ]
    },
    {
      "cell_type": "code",
      "source": [
        "num = int(input(\"Enter a number : \"))\n",
        "if last_digit % 3 == 0:\n",
        "    print(\"The last digit is divisible by 3:\")\n",
        "else:\n",
        "    print(\"The last digit is not divisible by 3:\")"
      ],
      "metadata": {
        "colab": {
          "base_uri": "https://localhost:8080/"
        },
        "id": "5fPQ-ge7t83B",
        "outputId": "8488a06c-2651-4bbb-9612-8eef589bee79"
      },
      "execution_count": 64,
      "outputs": [
        {
          "output_type": "stream",
          "name": "stdout",
          "text": [
            "Enter a number : 3\n",
            "The last digit is divisible by 3:\n"
          ]
        }
      ]
    }
  ]
}