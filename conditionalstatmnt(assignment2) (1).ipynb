{
 "cells": [
  {
   "cell_type": "code",
   "execution_count": 23,
   "id": "12ce0ce1-3ea0-449f-95da-8209d007322e",
   "metadata": {},
   "outputs": [
    {
     "name": "stdin",
     "output_type": "stream",
     "text": [
      "Enter total no of people: 100\n",
      "Enter total no of buses: 8\n",
      "Enter total no of seats for bus: 50\n",
      "Enter adjust factor: 30\n"
     ]
    },
    {
     "name": "stdout",
     "output_type": "stream",
     "text": [
      "sufficient buses are available:\n"
     ]
    }
   ],
   "source": [
    "totalpeople = int(input(\"Enter total no of people:\"))\n",
    "totalbuses = int(input(\"Enter total no of buses:\"))\n",
    "seatsforbus = int(input(\"Enter total no of seats for bus:\"))\n",
    "adjustfactor = int(input(\"Enter adjust factor:\"))\n",
    "totalseats = totalbuses*seatsforbus*adjustfactor\n",
    "if totalseats >= totalpeople:\n",
    "   print(\"sufficient buses are available:\")\n",
    "else:\n",
    "     extrapeople = totalpeople - totalseats\n",
    "     extrabuses = (extrapeople + (seatsforbus - 1))\n",
    "     print(f\"sufficinet buses are not available.You need more buses.\")\n",
    "    \n",
    "                    "
   ]
  },
  {
   "cell_type": "code",
   "execution_count": 26,
   "id": "203f412b-e109-4f37-9731-f18e43086c48",
   "metadata": {},
   "outputs": [
    {
     "name": "stdin",
     "output_type": "stream",
     "text": [
      "Enter the Number: 4\n"
     ]
    },
    {
     "name": "stdout",
     "output_type": "stream",
     "text": [
      "Number is even:\n"
     ]
    }
   ],
   "source": [
    "num = int(input(\"Enter the Number:\"))\n",
    "if num % 2 == 0:\n",
    "    print(\"Number is even:\")\n",
    "else:\n",
    "    print(\"Number is odd:\")"
   ]
  },
  {
   "cell_type": "code",
   "execution_count": 28,
   "id": "e506793f-7a73-4615-a9c1-7447f70c4e26",
   "metadata": {},
   "outputs": [
    {
     "name": "stdin",
     "output_type": "stream",
     "text": [
      "Enter the Number: 2\n"
     ]
    },
    {
     "name": "stdout",
     "output_type": "stream",
     "text": [
      "Number is positive:\n"
     ]
    }
   ],
   "source": [
    "num = int(input(\"Enter the Number:\"))\n",
    "if num > 0:\n",
    "    print(\"Number is positive:\")\n",
    "elif num < 0:\n",
    "    print(\"Number is Negative:\")\n",
    "else:\n",
    "    print(\"Number is Zero:\")"
   ]
  },
  {
   "cell_type": "code",
   "execution_count": 33,
   "id": "2af20952-501b-4a32-a1d6-837673e1ea59",
   "metadata": {},
   "outputs": [
    {
     "name": "stdin",
     "output_type": "stream",
     "text": [
      "Enter a string: \n"
     ]
    },
    {
     "name": "stdout",
     "output_type": "stream",
     "text": [
      "Error\n"
     ]
    }
   ],
   "source": [
    "userinput = input(\"Enter a string:\")\n",
    "if userinput:\n",
    "    print(\"The length is:({userinput})\")\n",
    "else:\n",
    "    print(\"Error\")"
   ]
  },
  {
   "cell_type": "code",
   "execution_count": null,
   "id": "a2101319-a9d3-4506-8ed4-27142333f24b",
   "metadata": {},
   "outputs": [],
   "source": []
  },
  {
   "cell_type": "code",
   "execution_count": null,
   "id": "3c44195e-f294-4a28-b251-f49c4f71b877",
   "metadata": {},
   "outputs": [],
   "source": []
  },
  {
   "cell_type": "code",
   "execution_count": null,
   "id": "11a54218-91f0-45af-a55a-1076c6c16367",
   "metadata": {},
   "outputs": [],
   "source": []
  },
  {
   "cell_type": "code",
   "execution_count": null,
   "id": "64c698f5-b489-4ac3-9e6b-87d26d99d1eb",
   "metadata": {},
   "outputs": [],
   "source": []
  },
  {
   "cell_type": "code",
   "execution_count": null,
   "id": "c8cc138c-16f2-4cd8-b44a-cc98a40f82b4",
   "metadata": {},
   "outputs": [],
   "source": []
  },
  {
   "cell_type": "code",
   "execution_count": null,
   "id": "e29d2599-a169-405e-ba61-9848d9dd0f47",
   "metadata": {},
   "outputs": [],
   "source": []
  }
 ],
 "metadata": {
  "kernelspec": {
   "display_name": "Python 3 (ipykernel)",
   "language": "python",
   "name": "python3"
  },
  "language_info": {
   "codemirror_mode": {
    "name": "ipython",
    "version": 3
   },
   "file_extension": ".py",
   "mimetype": "text/x-python",
   "name": "python",
   "nbconvert_exporter": "python",
   "pygments_lexer": "ipython3",
   "version": "3.12.4"
  }
 },
 "nbformat": 4,
 "nbformat_minor": 5
}
